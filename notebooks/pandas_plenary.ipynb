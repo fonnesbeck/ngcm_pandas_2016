{
 "cells": [
  {
   "cell_type": "code",
   "execution_count": 1,
   "metadata": {
    "collapsed": false,
    "slideshow": {
     "slide_type": "skip"
    }
   },
   "outputs": [],
   "source": [
    "%matplotlib inline\n",
    "import pandas as pd\n",
    "pd.set_option(\"max_rows\", 10)"
   ]
  },
  {
   "cell_type": "markdown",
   "metadata": {
    "slideshow": {
     "slide_type": "slide"
    }
   },
   "source": [
    "<h1 style=\"text-align:center\"> Pandas and the Python Data Stack </h1>"
   ]
  },
  {
   "cell_type": "markdown",
   "metadata": {
    "slideshow": {
     "slide_type": "slide"
    }
   },
   "source": [
    "# Why Python?\n",
    "\n",
    "* Diversity of perspective\n",
    "  * Web programmers\n",
    "  * Computational scientists\n",
    "    * Physical scientists (Engineers, Physicists)\n",
    "    * Statisticians and Computer Scientists\n",
    "* Community\n",
    "  * People are nice! And helpful!\n",
    "* Software Engineering Practices\n",
    "  * Testing\n",
    "  * Readable code (PEP-8)\n",
    "* Design\n",
    "  * Understandable\n",
    "  * Clear, well thought out and transparent language choices\n",
    "* Fully featured language (batteries included)\n",
    "* Glue language"
   ]
  },
  {
   "cell_type": "markdown",
   "metadata": {
    "slideshow": {
     "slide_type": "slide"
    }
   },
   "source": [
    "# Zen of Python"
   ]
  },
  {
   "cell_type": "code",
   "execution_count": 2,
   "metadata": {
    "collapsed": false,
    "scrolled": true,
    "slideshow": {
     "slide_type": "subslide"
    }
   },
   "outputs": [
    {
     "name": "stdout",
     "output_type": "stream",
     "text": [
      "The Zen of Python, by Tim Peters\n",
      "\n",
      "Beautiful is better than ugly.\n",
      "Explicit is better than implicit.\n",
      "Simple is better than complex.\n",
      "Complex is better than complicated.\n",
      "Flat is better than nested.\n",
      "Sparse is better than dense.\n",
      "Readability counts.\n",
      "Special cases aren't special enough to break the rules.\n",
      "Although practicality beats purity.\n",
      "Errors should never pass silently.\n",
      "Unless explicitly silenced.\n",
      "In the face of ambiguity, refuse the temptation to guess.\n",
      "There should be one-- and preferably only one --obvious way to do it.\n",
      "Although that way may not be obvious at first unless you're Dutch.\n",
      "Now is better than never.\n",
      "Although never is often better than *right* now.\n",
      "If the implementation is hard to explain, it's a bad idea.\n",
      "If the implementation is easy to explain, it may be a good idea.\n",
      "Namespaces are one honking great idea -- let's do more of those!\n"
     ]
    }
   ],
   "source": [
    "import this"
   ]
  },
  {
   "cell_type": "markdown",
   "metadata": {
    "slideshow": {
     "slide_type": "slide"
    }
   },
   "source": [
    "![](images/python_ecosystem.png)"
   ]
  },
  {
   "cell_type": "markdown",
   "metadata": {
    "slideshow": {
     "slide_type": "slide"
    }
   },
   "source": [
    "![](images/blaze-ecosystem.png)"
   ]
  },
  {
   "cell_type": "markdown",
   "metadata": {
    "slideshow": {
     "slide_type": "slide"
    }
   },
   "source": [
    "# History Lesson\n",
    "\n",
    "* Numeric (1995)\n",
    "* SciPy (2001-2005)\n",
    "* numarray (2005)\n",
    "* NumPy (2006)\n",
    "* Pandas (2009)\n",
    "* Scikit-Learn (2010)\n",
    "* Dask (2014)"
   ]
  },
  {
   "cell_type": "markdown",
   "metadata": {
    "slideshow": {
     "slide_type": "slide"
    }
   },
   "source": [
    "# Python Data Stack: NumPy\n",
    "\n",
    "* ND-array data structure\n",
    "* fast, core mathematical calculations\n",
    "* FFTs\n",
    "* polynomials\n",
    "* some random number generators\n",
    "* linear algebra\n",
    "* f2py (Fortran code wrapper)\n",
    "* numpy.testing\n"
   ]
  },
  {
   "cell_type": "markdown",
   "metadata": {
    "slideshow": {
     "slide_type": "slide"
    }
   },
   "source": [
    "# Python Data Stack: SciPy\n",
    "\n",
    "<ul id=\"double\"></li>\n",
    "<li> Clustering</li>\n",
    "<li> More FFTs</li>\n",
    "<li> Numerical integration</li>\n",
    "<li> Interpolation</li>\n",
    "<li> I/O (csv, matlab, sparse matrix formats, etc.)</li>\n",
    "<li> Linear algebra</li>\n",
    "<li> Image processing</li>\n",
    "<li> Optimization (unconstrained quasi-newton, some constrained, some heuristics)</li>\n",
    "<li> Signal processing</li>\n",
    "<li> Sparse matrices and utilities for working with them</li>\n",
    "<li> Spatial data structures and algorithms</li>\n",
    "<li> Special functions (Bessel functions, Gamma function, hypergeometric, etc.)</li>\n",
    "<li> Stats (distributions, tests, etc.)</li>\n",
    "</ul>\n"
   ]
  },
  {
   "cell_type": "markdown",
   "metadata": {
    "slideshow": {
     "slide_type": "slide"
    }
   },
   "source": [
    "# Python Data Stack: Matplotlib\n",
    "\n",
    "* base plotting library for Python\n",
    "  * seaborn\n",
    "* bokeh\n",
    "  * Develop browser-based applications\n",
    "  \n",
    "![](images/tufte.svg)"
   ]
  },
  {
   "cell_type": "markdown",
   "metadata": {
    "slideshow": {
     "slide_type": "slide"
    }
   },
   "source": [
    "# Python: Scikit-Learn\n",
    "\n",
    "* Best in class machine learning package for Python\n",
    "  * Well engineered and reviewed\n",
    "  * Consistent, expressive, and powerul API\n",
    "* Supervised learning\n",
    "  * Classification\n",
    "  * Regression\n",
    "* Unsupervised learning\n",
    "  * Clustering\n",
    "  * Dimensionality Reduction\n",
    "* Model selection\n",
    "* Data preprocessing"
   ]
  },
  {
   "cell_type": "markdown",
   "metadata": {
    "slideshow": {
     "slide_type": "slide"
    }
   },
   "source": [
    "# NumPy\n",
    "\n",
    "* Good as a container for homogeneously typed data\n",
    "* Good for doing linear algebra, computations, etc.\n",
    "* N-dimensional"
   ]
  },
  {
   "cell_type": "markdown",
   "metadata": {
    "slideshow": {
     "slide_type": "slide"
    }
   },
   "source": [
    "# Pandas: Overview\n",
    "\n",
    "* Data structures\n",
    "  * 2D DataFrames\n",
    "  * 1D Series\n",
    "* Arbitrary labelled indices\n",
    "  * Multidimensional indices\n",
    "* Support for heterogeneous data types\n",
    "* Facilities for data wrangling\n",
    "* I/O (csv, stata, hdf5, html, json, sql, etc.)\n",
    "* Works with time series\n",
    "* Plotting conveniences\n",
    "* Statistical operations"
   ]
  },
  {
   "cell_type": "markdown",
   "metadata": {
    "slideshow": {
     "slide_type": "slide"
    }
   },
   "source": [
    "# Pandas: DataFrames"
   ]
  },
  {
   "cell_type": "code",
   "execution_count": 3,
   "metadata": {
    "collapsed": false,
    "slideshow": {
     "slide_type": "fragment"
    }
   },
   "outputs": [
    {
     "data": {
      "text/html": [
       "<div>\n",
       "<table border=\"1\" class=\"dataframe\">\n",
       "  <thead>\n",
       "    <tr style=\"text-align: right;\">\n",
       "      <th></th>\n",
       "      <th>temp</th>\n",
       "      <th>season</th>\n",
       "      <th>tempc</th>\n",
       "    </tr>\n",
       "    <tr>\n",
       "      <th>date</th>\n",
       "      <th></th>\n",
       "      <th></th>\n",
       "      <th></th>\n",
       "    </tr>\n",
       "  </thead>\n",
       "  <tbody>\n",
       "    <tr>\n",
       "      <th>1995-01-01</th>\n",
       "      <td>44.0</td>\n",
       "      <td>Winter</td>\n",
       "      <td>6.666667</td>\n",
       "    </tr>\n",
       "    <tr>\n",
       "      <th>1995-01-02</th>\n",
       "      <td>41.8</td>\n",
       "      <td>Winter</td>\n",
       "      <td>5.444444</td>\n",
       "    </tr>\n",
       "    <tr>\n",
       "      <th>1995-01-03</th>\n",
       "      <td>28.1</td>\n",
       "      <td>Winter</td>\n",
       "      <td>-2.166667</td>\n",
       "    </tr>\n",
       "    <tr>\n",
       "      <th>1995-01-04</th>\n",
       "      <td>31.7</td>\n",
       "      <td>Winter</td>\n",
       "      <td>-0.166667</td>\n",
       "    </tr>\n",
       "    <tr>\n",
       "      <th>1995-01-05</th>\n",
       "      <td>21.3</td>\n",
       "      <td>Winter</td>\n",
       "      <td>-5.944444</td>\n",
       "    </tr>\n",
       "  </tbody>\n",
       "</table>\n",
       "</div>"
      ],
      "text/plain": [
       "            temp  season     tempc\n",
       "date                              \n",
       "1995-01-01  44.0  Winter  6.666667\n",
       "1995-01-02  41.8  Winter  5.444444\n",
       "1995-01-03  28.1  Winter -2.166667\n",
       "1995-01-04  31.7  Winter -0.166667\n",
       "1995-01-05  21.3  Winter -5.944444"
      ]
     },
     "execution_count": 3,
     "metadata": {},
     "output_type": "execute_result"
    }
   ],
   "source": [
    "weather = pd.read_csv(\"../data/weather_nyc.csv\", \n",
    "                      parse_dates=[[0, 1, 2]],\n",
    "                      na_values=[-99])\n",
    "weather = weather.rename(columns={\"month_day_year\": \"date\"})\n",
    "weather.set_index('date', inplace=True)\n",
    "weather.head()"
   ]
  },
  {
   "cell_type": "markdown",
   "metadata": {
    "slideshow": {
     "slide_type": "slide"
    }
   },
   "source": [
    "# Pandas: Labeled Indices\n",
    "\n",
    "* Named, labeled indices\n",
    "* Enhances Python + NumPy indexing further"
   ]
  },
  {
   "cell_type": "code",
   "execution_count": 4,
   "metadata": {
    "collapsed": false,
    "slideshow": {
     "slide_type": "fragment"
    }
   },
   "outputs": [
    {
     "data": {
      "text/html": [
       "<div>\n",
       "<table border=\"1\" class=\"dataframe\">\n",
       "  <thead>\n",
       "    <tr style=\"text-align: right;\">\n",
       "      <th></th>\n",
       "      <th>temp</th>\n",
       "      <th>season</th>\n",
       "      <th>tempc</th>\n",
       "    </tr>\n",
       "    <tr>\n",
       "      <th>date</th>\n",
       "      <th></th>\n",
       "      <th></th>\n",
       "      <th></th>\n",
       "    </tr>\n",
       "  </thead>\n",
       "  <tbody>\n",
       "    <tr>\n",
       "      <th>1995-01-01</th>\n",
       "      <td>44.0</td>\n",
       "      <td>Winter</td>\n",
       "      <td>6.666667</td>\n",
       "    </tr>\n",
       "    <tr>\n",
       "      <th>1995-01-02</th>\n",
       "      <td>41.8</td>\n",
       "      <td>Winter</td>\n",
       "      <td>5.444444</td>\n",
       "    </tr>\n",
       "    <tr>\n",
       "      <th>1995-01-03</th>\n",
       "      <td>28.1</td>\n",
       "      <td>Winter</td>\n",
       "      <td>-2.166667</td>\n",
       "    </tr>\n",
       "    <tr>\n",
       "      <th>1995-01-04</th>\n",
       "      <td>31.7</td>\n",
       "      <td>Winter</td>\n",
       "      <td>-0.166667</td>\n",
       "    </tr>\n",
       "    <tr>\n",
       "      <th>1995-01-05</th>\n",
       "      <td>21.3</td>\n",
       "      <td>Winter</td>\n",
       "      <td>-5.944444</td>\n",
       "    </tr>\n",
       "    <tr>\n",
       "      <th>...</th>\n",
       "      <td>...</td>\n",
       "      <td>...</td>\n",
       "      <td>...</td>\n",
       "    </tr>\n",
       "    <tr>\n",
       "      <th>1995-02-24</th>\n",
       "      <td>43.3</td>\n",
       "      <td>Winter</td>\n",
       "      <td>6.277778</td>\n",
       "    </tr>\n",
       "    <tr>\n",
       "      <th>1995-02-25</th>\n",
       "      <td>31.2</td>\n",
       "      <td>Winter</td>\n",
       "      <td>-0.444444</td>\n",
       "    </tr>\n",
       "    <tr>\n",
       "      <th>1995-02-26</th>\n",
       "      <td>28.4</td>\n",
       "      <td>Winter</td>\n",
       "      <td>-2.000000</td>\n",
       "    </tr>\n",
       "    <tr>\n",
       "      <th>1995-02-27</th>\n",
       "      <td>29.8</td>\n",
       "      <td>Winter</td>\n",
       "      <td>-1.222222</td>\n",
       "    </tr>\n",
       "    <tr>\n",
       "      <th>1995-02-28</th>\n",
       "      <td>34.9</td>\n",
       "      <td>Winter</td>\n",
       "      <td>1.611111</td>\n",
       "    </tr>\n",
       "  </tbody>\n",
       "</table>\n",
       "<p>59 rows × 3 columns</p>\n",
       "</div>"
      ],
      "text/plain": [
       "            temp  season     tempc\n",
       "date                              \n",
       "1995-01-01  44.0  Winter  6.666667\n",
       "1995-01-02  41.8  Winter  5.444444\n",
       "1995-01-03  28.1  Winter -2.166667\n",
       "1995-01-04  31.7  Winter -0.166667\n",
       "1995-01-05  21.3  Winter -5.944444\n",
       "...          ...     ...       ...\n",
       "1995-02-24  43.3  Winter  6.277778\n",
       "1995-02-25  31.2  Winter -0.444444\n",
       "1995-02-26  28.4  Winter -2.000000\n",
       "1995-02-27  29.8  Winter -1.222222\n",
       "1995-02-28  34.9  Winter  1.611111\n",
       "\n",
       "[59 rows x 3 columns]"
      ]
     },
     "execution_count": 4,
     "metadata": {},
     "output_type": "execute_result"
    }
   ],
   "source": [
    "weather['1995-Jan':'1995-Feb']"
   ]
  },
  {
   "cell_type": "markdown",
   "metadata": {
    "slideshow": {
     "slide_type": "slide"
    }
   },
   "source": [
    "# Pandas: Time-Series"
   ]
  },
  {
   "cell_type": "code",
   "execution_count": 5,
   "metadata": {
    "collapsed": false,
    "slideshow": {
     "slide_type": "fragment"
    }
   },
   "outputs": [
    {
     "data": {
      "text/html": [
       "<div>\n",
       "<table border=\"1\" class=\"dataframe\">\n",
       "  <thead>\n",
       "    <tr style=\"text-align: right;\">\n",
       "      <th></th>\n",
       "      <th>temp</th>\n",
       "      <th>tempc</th>\n",
       "    </tr>\n",
       "    <tr>\n",
       "      <th>date</th>\n",
       "      <th></th>\n",
       "      <th></th>\n",
       "    </tr>\n",
       "  </thead>\n",
       "  <tbody>\n",
       "    <tr>\n",
       "      <th>1995-01-31</th>\n",
       "      <td>37.829032</td>\n",
       "      <td>3.238351</td>\n",
       "    </tr>\n",
       "    <tr>\n",
       "      <th>1995-02-28</th>\n",
       "      <td>31.985714</td>\n",
       "      <td>-0.007937</td>\n",
       "    </tr>\n",
       "  </tbody>\n",
       "</table>\n",
       "</div>"
      ],
      "text/plain": [
       "                 temp     tempc\n",
       "date                           \n",
       "1995-01-31  37.829032  3.238351\n",
       "1995-02-28  31.985714 -0.007937"
      ]
     },
     "execution_count": 5,
     "metadata": {},
     "output_type": "execute_result"
    }
   ],
   "source": [
    "weather['1995-Jan':'1995-Feb'].resample(\"M\").mean()"
   ]
  },
  {
   "cell_type": "markdown",
   "metadata": {
    "slideshow": {
     "slide_type": "slide"
    }
   },
   "source": [
    "# Pandas: GroupBy\n",
    "\n",
    "* Split-Apply-Combine\n",
    "\n",
    "![](images/split_apply_combine.png)"
   ]
  },
  {
   "cell_type": "code",
   "execution_count": 6,
   "metadata": {
    "collapsed": false,
    "slideshow": {
     "slide_type": "subslide"
    }
   },
   "outputs": [
    {
     "data": {
      "text/html": [
       "<div>\n",
       "<table border=\"1\" class=\"dataframe\">\n",
       "  <thead>\n",
       "    <tr style=\"text-align: right;\">\n",
       "      <th></th>\n",
       "      <th>temp</th>\n",
       "      <th>tempc</th>\n",
       "    </tr>\n",
       "    <tr>\n",
       "      <th>season</th>\n",
       "      <th></th>\n",
       "      <th></th>\n",
       "    </tr>\n",
       "  </thead>\n",
       "  <tbody>\n",
       "    <tr>\n",
       "      <th>Fall</th>\n",
       "      <td>52.622870</td>\n",
       "      <td>11.410867</td>\n",
       "    </tr>\n",
       "    <tr>\n",
       "      <th>Spring</th>\n",
       "      <td>58.353971</td>\n",
       "      <td>14.277229</td>\n",
       "    </tr>\n",
       "    <tr>\n",
       "      <th>Summer</th>\n",
       "      <td>75.810621</td>\n",
       "      <td>24.128110</td>\n",
       "    </tr>\n",
       "    <tr>\n",
       "      <th>Winter</th>\n",
       "      <td>36.158209</td>\n",
       "      <td>2.030979</td>\n",
       "    </tr>\n",
       "  </tbody>\n",
       "</table>\n",
       "</div>"
      ],
      "text/plain": [
       "             temp      tempc\n",
       "season                      \n",
       "Fall    52.622870  11.410867\n",
       "Spring  58.353971  14.277229\n",
       "Summer  75.810621  24.128110\n",
       "Winter  36.158209   2.030979"
      ]
     },
     "execution_count": 6,
     "metadata": {},
     "output_type": "execute_result"
    }
   ],
   "source": [
    "weather.groupby('season').mean()"
   ]
  },
  {
   "cell_type": "markdown",
   "metadata": {
    "collapsed": true,
    "slideshow": {
     "slide_type": "slide"
    }
   },
   "source": [
    "# Pandas: Plotting"
   ]
  },
  {
   "cell_type": "code",
   "execution_count": 7,
   "metadata": {
    "collapsed": false,
    "slideshow": {
     "slide_type": "fragment"
    }
   },
   "outputs": [
    {
     "data": {
      "image/png": "[encoded data removed]",
      "text/plain": [
       "<matplotlib.figure.Figure at 0x10ff7b2e8>"
      ]
     },
     "metadata": {},
     "output_type": "display_data"
    }
   ],
   "source": [
    "# pandas plotting\n",
    "ax = weather['2012':'2014'].tempc.plot(legend=True, figsize=(10, 6), \n",
    "                                       fontsize=14)\n",
    "\n",
    "# matplotlib formatting\n",
    "ax.legend(fontsize=24)\n",
    "ax.xaxis.get_label().set_fontsize(20)\n",
    "yticks = range(-20, 41, 10)\n",
    "yticks = [str(i) + u\"\\u00b0\" for i in yticks]\n",
    "ax.yaxis.set_ticklabels(yticks);"
   ]
  },
  {
   "cell_type": "markdown",
   "metadata": {
    "slideshow": {
     "slide_type": "slide"
    }
   },
   "source": [
    "# Merging\n",
    "\n",
    "* Facilities for SQL-like merges and joins"
   ]
  },
  {
   "cell_type": "code",
   "execution_count": 8,
   "metadata": {
    "collapsed": false,
    "slideshow": {
     "slide_type": "subslide"
    }
   },
   "outputs": [
    {
     "data": {
      "text/html": [
       "<div>\n",
       "<table border=\"1\" class=\"dataframe\">\n",
       "  <thead>\n",
       "    <tr style=\"text-align: right;\">\n",
       "      <th></th>\n",
       "      <th>mmsi</th>\n",
       "      <th>type</th>\n",
       "    </tr>\n",
       "  </thead>\n",
       "  <tbody>\n",
       "    <tr>\n",
       "      <th>0</th>\n",
       "      <td>1</td>\n",
       "      <td>Dredging/MilOps/Reserved/Towing</td>\n",
       "    </tr>\n",
       "    <tr>\n",
       "      <th>1</th>\n",
       "      <td>9</td>\n",
       "      <td>Pleasure/Tug</td>\n",
       "    </tr>\n",
       "    <tr>\n",
       "      <th>2</th>\n",
       "      <td>21</td>\n",
       "      <td>Unknown</td>\n",
       "    </tr>\n",
       "    <tr>\n",
       "      <th>3</th>\n",
       "      <td>74</td>\n",
       "      <td>Unknown</td>\n",
       "    </tr>\n",
       "    <tr>\n",
       "      <th>4</th>\n",
       "      <td>103</td>\n",
       "      <td>Tanker/Unknown</td>\n",
       "    </tr>\n",
       "  </tbody>\n",
       "</table>\n",
       "</div>"
      ],
      "text/plain": [
       "   mmsi                             type\n",
       "0     1  Dredging/MilOps/Reserved/Towing\n",
       "1     9                     Pleasure/Tug\n",
       "2    21                          Unknown\n",
       "3    74                          Unknown\n",
       "4   103                   Tanker/Unknown"
      ]
     },
     "execution_count": 8,
     "metadata": {},
     "output_type": "execute_result"
    }
   ],
   "source": [
    "vessels = pd.read_csv(\"../data/AIS/vessel_information.csv\", \n",
    "                      usecols=[\"mmsi\", \"type\"])\n",
    "vessels.head()"
   ]
  },
  {
   "cell_type": "code",
   "execution_count": 9,
   "metadata": {
    "collapsed": false,
    "slideshow": {
     "slide_type": "subslide"
    }
   },
   "outputs": [
    {
     "data": {
      "text/html": [
       "<div>\n",
       "<table border=\"1\" class=\"dataframe\">\n",
       "  <thead>\n",
       "    <tr style=\"text-align: right;\">\n",
       "      <th></th>\n",
       "      <th>mmsi</th>\n",
       "      <th>name</th>\n",
       "      <th>seg_length</th>\n",
       "      <th>st_time</th>\n",
       "      <th>end_time</th>\n",
       "    </tr>\n",
       "  </thead>\n",
       "  <tbody>\n",
       "    <tr>\n",
       "      <th>0</th>\n",
       "      <td>1</td>\n",
       "      <td>Us Govt Ves</td>\n",
       "      <td>5.1</td>\n",
       "      <td>2/10/09 16:03</td>\n",
       "      <td>2/10/09 16:27</td>\n",
       "    </tr>\n",
       "    <tr>\n",
       "      <th>1</th>\n",
       "      <td>1</td>\n",
       "      <td>Dredge Capt Frank</td>\n",
       "      <td>13.5</td>\n",
       "      <td>4/6/09 14:31</td>\n",
       "      <td>4/6/09 15:20</td>\n",
       "    </tr>\n",
       "    <tr>\n",
       "      <th>2</th>\n",
       "      <td>1</td>\n",
       "      <td>Us Gov Vessel</td>\n",
       "      <td>4.3</td>\n",
       "      <td>4/6/09 14:36</td>\n",
       "      <td>4/6/09 14:55</td>\n",
       "    </tr>\n",
       "    <tr>\n",
       "      <th>3</th>\n",
       "      <td>1</td>\n",
       "      <td>Us Gov Vessel</td>\n",
       "      <td>9.2</td>\n",
       "      <td>4/10/09 17:58</td>\n",
       "      <td>4/10/09 18:34</td>\n",
       "    </tr>\n",
       "    <tr>\n",
       "      <th>4</th>\n",
       "      <td>1</td>\n",
       "      <td>Dredge Capt Frank</td>\n",
       "      <td>9.2</td>\n",
       "      <td>4/10/09 17:59</td>\n",
       "      <td>4/10/09 18:35</td>\n",
       "    </tr>\n",
       "  </tbody>\n",
       "</table>\n",
       "</div>"
      ],
      "text/plain": [
       "   mmsi               name  seg_length        st_time       end_time\n",
       "0     1        Us Govt Ves         5.1  2/10/09 16:03  2/10/09 16:27\n",
       "1     1  Dredge Capt Frank        13.5   4/6/09 14:31   4/6/09 15:20\n",
       "2     1      Us Gov Vessel         4.3   4/6/09 14:36   4/6/09 14:55\n",
       "3     1      Us Gov Vessel         9.2  4/10/09 17:58  4/10/09 18:34\n",
       "4     1  Dredge Capt Frank         9.2  4/10/09 17:59  4/10/09 18:35"
      ]
     },
     "execution_count": 9,
     "metadata": {},
     "output_type": "execute_result"
    }
   ],
   "source": [
    "transit = pd.read_csv(\"../data/AIS/transit_segments.csv\", \n",
    "                      usecols=[\"mmsi\", \"name\", \"seg_length\", \n",
    "                               \"st_time\", \"end_time\"],\n",
    "                      parse_dates=False)\n",
    "transit.head()"
   ]
  },
  {
   "cell_type": "code",
   "execution_count": 10,
   "metadata": {
    "collapsed": false,
    "slideshow": {
     "slide_type": "subslide"
    }
   },
   "outputs": [
    {
     "data": {
      "text/html": [
       "<div>\n",
       "<table border=\"1\" class=\"dataframe\">\n",
       "  <thead>\n",
       "    <tr style=\"text-align: right;\">\n",
       "      <th></th>\n",
       "      <th>mmsi</th>\n",
       "      <th>name</th>\n",
       "      <th>seg_length</th>\n",
       "      <th>st_time</th>\n",
       "      <th>end_time</th>\n",
       "      <th>type</th>\n",
       "    </tr>\n",
       "  </thead>\n",
       "  <tbody>\n",
       "    <tr>\n",
       "      <th>0</th>\n",
       "      <td>1</td>\n",
       "      <td>Us Govt Ves</td>\n",
       "      <td>5.1</td>\n",
       "      <td>2/10/09 16:03</td>\n",
       "      <td>2/10/09 16:27</td>\n",
       "      <td>Dredging/MilOps/Reserved/Towing</td>\n",
       "    </tr>\n",
       "    <tr>\n",
       "      <th>1</th>\n",
       "      <td>1</td>\n",
       "      <td>Dredge Capt Frank</td>\n",
       "      <td>13.5</td>\n",
       "      <td>4/6/09 14:31</td>\n",
       "      <td>4/6/09 15:20</td>\n",
       "      <td>Dredging/MilOps/Reserved/Towing</td>\n",
       "    </tr>\n",
       "    <tr>\n",
       "      <th>2</th>\n",
       "      <td>1</td>\n",
       "      <td>Us Gov Vessel</td>\n",
       "      <td>4.3</td>\n",
       "      <td>4/6/09 14:36</td>\n",
       "      <td>4/6/09 14:55</td>\n",
       "      <td>Dredging/MilOps/Reserved/Towing</td>\n",
       "    </tr>\n",
       "    <tr>\n",
       "      <th>3</th>\n",
       "      <td>1</td>\n",
       "      <td>Us Gov Vessel</td>\n",
       "      <td>9.2</td>\n",
       "      <td>4/10/09 17:58</td>\n",
       "      <td>4/10/09 18:34</td>\n",
       "      <td>Dredging/MilOps/Reserved/Towing</td>\n",
       "    </tr>\n",
       "    <tr>\n",
       "      <th>4</th>\n",
       "      <td>1</td>\n",
       "      <td>Dredge Capt Frank</td>\n",
       "      <td>9.2</td>\n",
       "      <td>4/10/09 17:59</td>\n",
       "      <td>4/10/09 18:35</td>\n",
       "      <td>Dredging/MilOps/Reserved/Towing</td>\n",
       "    </tr>\n",
       "    <tr>\n",
       "      <th>...</th>\n",
       "      <td>...</td>\n",
       "      <td>...</td>\n",
       "      <td>...</td>\n",
       "      <td>...</td>\n",
       "      <td>...</td>\n",
       "      <td>...</td>\n",
       "    </tr>\n",
       "    <tr>\n",
       "      <th>262348</th>\n",
       "      <td>999999999</td>\n",
       "      <td>Triple Attraction</td>\n",
       "      <td>5.3</td>\n",
       "      <td>6/15/10 12:49</td>\n",
       "      <td>6/15/10 13:05</td>\n",
       "      <td>Pleasure</td>\n",
       "    </tr>\n",
       "    <tr>\n",
       "      <th>262349</th>\n",
       "      <td>999999999</td>\n",
       "      <td>Triple Attraction</td>\n",
       "      <td>18.7</td>\n",
       "      <td>6/15/10 21:32</td>\n",
       "      <td>6/15/10 22:29</td>\n",
       "      <td>Pleasure</td>\n",
       "    </tr>\n",
       "    <tr>\n",
       "      <th>262350</th>\n",
       "      <td>999999999</td>\n",
       "      <td>Triple Attraction</td>\n",
       "      <td>17.4</td>\n",
       "      <td>6/17/10 19:16</td>\n",
       "      <td>6/17/10 20:17</td>\n",
       "      <td>Pleasure</td>\n",
       "    </tr>\n",
       "    <tr>\n",
       "      <th>262351</th>\n",
       "      <td>999999999</td>\n",
       "      <td>Triple Attraction</td>\n",
       "      <td>31.5</td>\n",
       "      <td>6/18/10 2:52</td>\n",
       "      <td>6/18/10 5:03</td>\n",
       "      <td>Pleasure</td>\n",
       "    </tr>\n",
       "    <tr>\n",
       "      <th>262352</th>\n",
       "      <td>999999999</td>\n",
       "      <td>Triple Attraction</td>\n",
       "      <td>19.8</td>\n",
       "      <td>6/18/10 10:19</td>\n",
       "      <td>6/18/10 11:22</td>\n",
       "      <td>Pleasure</td>\n",
       "    </tr>\n",
       "  </tbody>\n",
       "</table>\n",
       "<p>262353 rows × 6 columns</p>\n",
       "</div>"
      ],
      "text/plain": [
       "             mmsi               name  seg_length        st_time  \\\n",
       "0               1        Us Govt Ves         5.1  2/10/09 16:03   \n",
       "1               1  Dredge Capt Frank        13.5   4/6/09 14:31   \n",
       "2               1      Us Gov Vessel         4.3   4/6/09 14:36   \n",
       "3               1      Us Gov Vessel         9.2  4/10/09 17:58   \n",
       "4               1  Dredge Capt Frank         9.2  4/10/09 17:59   \n",
       "...           ...                ...         ...            ...   \n",
       "262348  999999999  Triple Attraction         5.3  6/15/10 12:49   \n",
       "262349  999999999  Triple Attraction        18.7  6/15/10 21:32   \n",
       "262350  999999999  Triple Attraction        17.4  6/17/10 19:16   \n",
       "262351  999999999  Triple Attraction        31.5   6/18/10 2:52   \n",
       "262352  999999999  Triple Attraction        19.8  6/18/10 10:19   \n",
       "\n",
       "             end_time                             type  \n",
       "0       2/10/09 16:27  Dredging/MilOps/Reserved/Towing  \n",
       "1        4/6/09 15:20  Dredging/MilOps/Reserved/Towing  \n",
       "2        4/6/09 14:55  Dredging/MilOps/Reserved/Towing  \n",
       "3       4/10/09 18:34  Dredging/MilOps/Reserved/Towing  \n",
       "4       4/10/09 18:35  Dredging/MilOps/Reserved/Towing  \n",
       "...               ...                              ...  \n",
       "262348  6/15/10 13:05                         Pleasure  \n",
       "262349  6/15/10 22:29                         Pleasure  \n",
       "262350  6/17/10 20:17                         Pleasure  \n",
       "262351   6/18/10 5:03                         Pleasure  \n",
       "262352  6/18/10 11:22                         Pleasure  \n",
       "\n",
       "[262353 rows x 6 columns]"
      ]
     },
     "execution_count": 10,
     "metadata": {},
     "output_type": "execute_result"
    }
   ],
   "source": [
    "transit.merge(vessels, how=\"inner\")"
   ]
  },
  {
   "cell_type": "markdown",
   "metadata": {
    "slideshow": {
     "slide_type": "slide"
    }
   },
   "source": [
    "# Dask\n",
    "\n",
    "* Takes the numpy and pandas abstractions to data that does not fit in memory\n",
    "* Parallel execution and scheduling\n",
    "\n",
    "```python\n",
    "In [1]: import dask.dataframe as dd\n",
    "In [2]: df = dd.DataFrame(\"s3://path/to/data/*.csv.gz\")\n",
    "In [3]: df.head(5)\n",
    "```\n",
    "\n",
    "* Functionality for reading data from HDFS, Parquet, etc. in flight"
   ]
  },
  {
   "cell_type": "markdown",
   "metadata": {
    "slideshow": {
     "slide_type": "slide"
    }
   },
   "source": [
    "# Dask Array"
   ]
  },
  {
   "cell_type": "code",
   "execution_count": 11,
   "metadata": {
    "collapsed": false,
    "slideshow": {
     "slide_type": "subslide"
    }
   },
   "outputs": [
    {
     "data": {
      "image/svg+xml": [
       "<svg height=\"252.00002\" id=\"svg3277\" inkscape:version=\"0.48.4 r9939\" sodipodi:docname=\"dask-array-black-text.svg\" version=\"1.1\" width=\"526.211\" xmlns=\"http://www.w3.org/2000/svg\" xmlns:cc=\"http://creativecommons.org/ns#\" xmlns:dc=\"http://purl.org/dc/elements/1.1/\" xmlns:inkscape=\"http://www.inkscape.org/namespaces/inkscape\" xmlns:rdf=\"http://www.w3.org/1999/02/22-rdf-syntax-ns#\" xmlns:sodipodi=\"http://sodipodi.sourceforge.net/DTD/sodipodi-0.dtd\" xmlns:svg=\"http://www.w3.org/2000/svg\">\n",
       "  <defs id=\"defs3279\"/>\n",
       "  <sodipodi:namedview bordercolor=\"#666666\" borderopacity=\"1.0\" fit-margin-bottom=\"0\" fit-margin-left=\"0\" fit-margin-right=\"0\" fit-margin-top=\"0\" id=\"base\" inkscape:current-layer=\"layer1\" inkscape:cx=\"313.40295\" inkscape:cy=\"40.810933\" inkscape:document-units=\"px\" inkscape:pageopacity=\"0.0\" inkscape:pageshadow=\"2\" inkscape:window-height=\"876\" inkscape:window-maximized=\"1\" inkscape:window-width=\"1600\" inkscape:window-x=\"0\" inkscape:window-y=\"24\" inkscape:zoom=\"1.4142136\" pagecolor=\"#ffffff\" showgrid=\"true\">\n",
       "    <inkscape:grid empspacing=\"5\" enabled=\"true\" id=\"grid3292\" originx=\"-398.9989px\" originy=\"-528.98717px\" snapvisiblegridlinesonly=\"true\" type=\"xygrid\" visible=\"true\"/>\n",
       "  </sodipodi:namedview>\n",
       "  <metadata id=\"metadata3282\">\n",
       "    <rdf:RDF>\n",
       "      <cc:Work rdf:about=\"\">\n",
       "        <dc:format>image/svg+xml</dc:format>\n",
       "        <dc:type rdf:resource=\"http://purl.org/dc/dcmitype/StillImage\"/>\n",
       "        <dc:title/>\n",
       "      </cc:Work>\n",
       "    </rdf:RDF>\n",
       "  </metadata>\n",
       "  <g id=\"layer1\" inkscape:groupmode=\"layer\" inkscape:label=\"Layer 1\" transform=\"translate(-398.9989,-271.375)\">\n",
       "    <rect height=\"120\" id=\"rect4572\" style=\"opacity:0.6;fill:#0000b0;fill-opacity:0.50196078;stroke:#000000;stroke-width:2;stroke-linecap:round;stroke-linejoin:round;stroke-miterlimit:4;stroke-opacity:0.44292238;stroke-dasharray:none;stroke-dashoffset:0\" transform=\"matrix(0,-1,1,0,0,0)\" width=\"60\" x=\"-522.36218\" y=\"400\"/>\n",
       "    <rect height=\"120\" id=\"rect4594\" style=\"opacity:0.6;fill:#0000b0;fill-opacity:0.50196078;stroke:#000000;stroke-width:2;stroke-linecap:round;stroke-linejoin:round;stroke-miterlimit:4;stroke-opacity:0.44292238;stroke-dasharray:none;stroke-dashoffset:0\" transform=\"matrix(0,-1,1,0,0,0)\" width=\"60\" x=\"-452.36218\" y=\"400\"/>\n",
       "    <rect height=\"120\" id=\"rect4598\" style=\"opacity:0.6;fill:#0000b0;fill-opacity:0.50196078;stroke:#000000;stroke-width:2;stroke-linecap:round;stroke-linejoin:round;stroke-miterlimit:4;stroke-opacity:0.44292238;stroke-dasharray:none;stroke-dashoffset:0\" transform=\"matrix(0,-1,1,0,0,0)\" width=\"80\" x=\"-382.36218\" y=\"400\"/>\n",
       "    <rect height=\"120\" id=\"rect4600\" style=\"opacity:0.6;fill:#0000b0;fill-opacity:0.50196078;stroke:#000000;stroke-width:2;stroke-linecap:round;stroke-linejoin:round;stroke-miterlimit:4;stroke-opacity:0.44292238;stroke-dasharray:none;stroke-dashoffset:0\" transform=\"matrix(0,-1,1,0,0,0)\" width=\"20\" x=\"-292.36218\" y=\"400\"/>\n",
       "    <rect height=\"30\" id=\"rect4602\" style=\"opacity:0.6;fill:#0000b0;fill-opacity:0.50196078;stroke:#000000;stroke-width:2;stroke-linecap:round;stroke-linejoin:round;stroke-miterlimit:4;stroke-opacity:0.44292238;stroke-dasharray:none;stroke-dashoffset:0\" transform=\"matrix(0,-1,1,0,0,0)\" width=\"60\" x=\"-522.36218\" y=\"530\"/>\n",
       "    <rect height=\"30\" id=\"rect4604\" style=\"opacity:0.6;fill:#0000b0;fill-opacity:0.50196078;stroke:#000000;stroke-width:2;stroke-linecap:round;stroke-linejoin:round;stroke-miterlimit:4;stroke-opacity:0.44292238;stroke-dasharray:none;stroke-dashoffset:0\" transform=\"matrix(0,-1,1,0,0,0)\" width=\"60\" x=\"-452.36218\" y=\"530\"/>\n",
       "    <rect height=\"30\" id=\"rect4606\" style=\"opacity:0.6;fill:#0000b0;fill-opacity:0.50196078;stroke:#000000;stroke-width:2;stroke-linecap:round;stroke-linejoin:round;stroke-miterlimit:4;stroke-opacity:0.44292238;stroke-dasharray:none;stroke-dashoffset:0\" transform=\"matrix(0,-1,1,0,0,0)\" width=\"80\" x=\"-382.36218\" y=\"530\"/>\n",
       "    <rect height=\"30\" id=\"rect4608\" style=\"opacity:0.6;fill:#0000b0;fill-opacity:0.50196078;stroke:#000000;stroke-width:2;stroke-linecap:round;stroke-linejoin:round;stroke-miterlimit:4;stroke-opacity:0.44292238;stroke-dasharray:none;stroke-dashoffset:0\" transform=\"matrix(0,-1,1,0,0,0)\" width=\"20\" x=\"-292.36218\" y=\"530\"/>\n",
       "    <rect height=\"60\" id=\"rect4610\" style=\"opacity:0.6;fill:#0000b0;fill-opacity:0.50196078;stroke:#000000;stroke-width:2;stroke-linecap:round;stroke-linejoin:round;stroke-miterlimit:4;stroke-opacity:0.44292238;stroke-dasharray:none;stroke-dashoffset:0\" transform=\"matrix(0,-1,1,0,0,0)\" width=\"60\" x=\"-522.36218\" y=\"570\"/>\n",
       "    <rect height=\"60\" id=\"rect4612\" style=\"opacity:0.6;fill:#0000b0;fill-opacity:0.50196078;stroke:#000000;stroke-width:2;stroke-linecap:round;stroke-linejoin:round;stroke-miterlimit:4;stroke-opacity:0.44292238;stroke-dasharray:none;stroke-dashoffset:0\" transform=\"matrix(0,-1,1,0,0,0)\" width=\"60\" x=\"-452.36218\" y=\"570\"/>\n",
       "    <rect height=\"60\" id=\"rect4614\" style=\"opacity:0.6;fill:#0000b0;fill-opacity:0.50196078;stroke:#000000;stroke-width:2;stroke-linecap:round;stroke-linejoin:round;stroke-miterlimit:4;stroke-opacity:0.44292238;stroke-dasharray:none;stroke-dashoffset:0\" transform=\"matrix(0,-1,1,0,0,0)\" width=\"80\" x=\"-382.36218\" y=\"570\"/>\n",
       "    <rect height=\"60\" id=\"rect4616\" style=\"opacity:0.6;fill:#0000b0;fill-opacity:0.50196078;stroke:#000000;stroke-width:2;stroke-linecap:round;stroke-linejoin:round;stroke-miterlimit:4;stroke-opacity:0.44292238;stroke-dasharray:none;stroke-dashoffset:0\" transform=\"matrix(0,-1,1,0,0,0)\" width=\"20\" x=\"-292.36218\" y=\"570\"/>\n",
       "    <rect height=\"110\" id=\"rect4618\" style=\"opacity:0.6;fill:#0000b0;fill-opacity:0.50196078;stroke:#000000;stroke-width:2;stroke-linecap:round;stroke-linejoin:round;stroke-miterlimit:4;stroke-opacity:0.44292238;stroke-dasharray:none;stroke-dashoffset:0\" transform=\"matrix(0,-1,1,0,0,0)\" width=\"60\" x=\"-522.36218\" y=\"640\"/>\n",
       "    <rect height=\"110\" id=\"rect4620\" style=\"opacity:0.6;fill:#0000b0;fill-opacity:0.50196078;stroke:#000000;stroke-width:2;stroke-linecap:round;stroke-linejoin:round;stroke-miterlimit:4;stroke-opacity:0.44292238;stroke-dasharray:none;stroke-dashoffset:0\" transform=\"matrix(0,-1,1,0,0,0)\" width=\"60\" x=\"-452.36218\" y=\"640\"/>\n",
       "    <rect height=\"110\" id=\"rect4622\" style=\"opacity:0.6;fill:#0000b0;fill-opacity:0.50196078;stroke:#000000;stroke-width:2;stroke-linecap:round;stroke-linejoin:round;stroke-miterlimit:4;stroke-opacity:0.44292238;stroke-dasharray:none;stroke-dashoffset:0\" transform=\"matrix(0,-1,1,0,0,0)\" width=\"80\" x=\"-382.36218\" y=\"640\"/>\n",
       "    <rect height=\"110\" id=\"rect4624\" style=\"opacity:0.6;fill:#0000b0;fill-opacity:0.50196078;stroke:#000000;stroke-width:2;stroke-linecap:round;stroke-linejoin:round;stroke-miterlimit:4;stroke-opacity:0.44292238;stroke-dasharray:none;stroke-dashoffset:0\" transform=\"matrix(0,-1,1,0,0,0)\" width=\"20\" x=\"-292.36218\" y=\"640\"/>\n",
       "    <rect height=\"50\" id=\"rect4626\" style=\"opacity:0.6;fill:#0000b0;fill-opacity:0.50196078;stroke:#000000;stroke-width:2;stroke-linecap:round;stroke-linejoin:round;stroke-miterlimit:4;stroke-opacity:0.44292238;stroke-dasharray:none;stroke-dashoffset:0\" transform=\"matrix(0,-1,1,0,0,0)\" width=\"60\" x=\"-522.36218\" y=\"760\"/>\n",
       "    <rect height=\"50\" id=\"rect4628\" style=\"opacity:0.6;fill:#0000b0;fill-opacity:0.50196078;stroke:#000000;stroke-width:2;stroke-linecap:round;stroke-linejoin:round;stroke-miterlimit:4;stroke-opacity:0.44292238;stroke-dasharray:none;stroke-dashoffset:0\" transform=\"matrix(0,-1,1,0,0,0)\" width=\"60\" x=\"-452.36218\" y=\"760\"/>\n",
       "    <rect height=\"50\" id=\"rect4630\" style=\"opacity:0.6;fill:#0000b0;fill-opacity:0.50196078;stroke:#000000;stroke-width:2;stroke-linecap:round;stroke-linejoin:round;stroke-miterlimit:4;stroke-opacity:0.44292238;stroke-dasharray:none;stroke-dashoffset:0\" transform=\"matrix(0,-1,1,0,0,0)\" width=\"80\" x=\"-382.36218\" y=\"760\"/>\n",
       "    <rect height=\"50\" id=\"rect4632\" style=\"opacity:0.6;fill:#0000b0;fill-opacity:0.50196078;stroke:#000000;stroke-width:2;stroke-linecap:round;stroke-linejoin:round;stroke-miterlimit:4;stroke-opacity:0.44292238;stroke-dasharray:none;stroke-dashoffset:0\" transform=\"matrix(0,-1,1,0,0,0)\" width=\"20\" x=\"-292.36218\" y=\"760\"/>\n",
       "    <text id=\"text4653\" sodipodi:linespacing=\"125%\" style=\"font-size:12px;font-style:normal;font-variant:normal;font-weight:normal;font-stretch:normal;text-align:center;line-height:125%;letter-spacing:0px;word-spacing:0px;text-anchor:middle;fill:#000000;fill-opacity:1;stroke:none;font-family:Ubuntu;-inkscape-font-specification:Ubuntu\" x=\"848.61719\" xml:space=\"preserve\" y=\"337.36218\"><tspan id=\"tspan4655\" sodipodi:role=\"line\" style=\"font-size:14px;fill:#000000;fill-opacity:1\" x=\"850.23047\" y=\"337.36218\">NumPy </tspan><tspan id=\"tspan4657\" sodipodi:role=\"line\" style=\"font-size:14px;fill:#000000;fill-opacity:1\" x=\"848.61719\" y=\"354.86218\">Array</tspan></text>\n",
       "    <text id=\"text4659\" sodipodi:linespacing=\"125%\" style=\"font-size:44.57763289999999756px;font-style:normal;font-variant:normal;font-weight:normal;font-stretch:normal;text-align:center;line-height:125%;letter-spacing:0px;word-spacing:0px;text-anchor:middle;fill:#000000;fill-opacity:1;stroke:none;font-family:Ubuntu;-inkscape-font-specification:Ubuntu\" transform=\"scale(0.53962379,1.8531429)\" x=\"1510.3115\" xml:space=\"preserve\" y=\"198.09331\"><tspan id=\"tspan4661\" sodipodi:role=\"line\" x=\"1510.3115\" y=\"198.09331\">}</tspan></text>\n",
       "    <text id=\"text4671\" sodipodi:linespacing=\"125%\" style=\"font-size:107.32640838999999744px;font-style:normal;font-variant:normal;font-weight:normal;font-stretch:normal;text-align:center;line-height:125%;letter-spacing:0px;word-spacing:0px;text-anchor:middle;fill:#000000;fill-opacity:1;stroke:none;font-family:Ubuntu;-inkscape-font-specification:Ubuntu\" transform=\"scale(0.41670775,2.3997634)\" x=\"2106.272\" xml:space=\"preserve\" y=\"197.52885\"><tspan id=\"tspan4673\" sodipodi:role=\"line\" x=\"2106.272\" y=\"197.52885\">}</tspan></text>\n",
       "    <text id=\"text4653-3\" sodipodi:linespacing=\"125%\" style=\"font-size:12px;font-style:normal;font-variant:normal;font-weight:normal;font-stretch:normal;text-align:center;line-height:125%;letter-spacing:0px;word-spacing:0px;text-anchor:middle;fill:#000000;fill-opacity:1;stroke:none;font-family:Ubuntu;-inkscape-font-specification:Ubuntu\" x=\"908.38672\" xml:space=\"preserve\" y=\"387.36218\"><tspan id=\"tspan4699\" sodipodi:role=\"line\" style=\"font-size:14px;fill:#000000;fill-opacity:1\" x=\"910\" y=\"387.36218\">Dask </tspan><tspan id=\"tspan4657-0\" sodipodi:role=\"line\" style=\"font-size:14px;fill:#000000;fill-opacity:1\" x=\"908.38672\" y=\"404.86218\">Array</tspan></text>\n",
       "  </g>\n",
       "</svg>"
      ],
      "text/plain": [
       "<IPython.core.display.SVG object>"
      ]
     },
     "execution_count": 11,
     "metadata": {},
     "output_type": "execute_result"
    }
   ],
   "source": [
    "from IPython.display import SVG\n",
    "SVG(\"http://dask.pydata.org/en/latest/_images/dask-array-black-text.svg\")"
   ]
  },
  {
   "cell_type": "markdown",
   "metadata": {
    "slideshow": {
     "slide_type": "slide"
    }
   },
   "source": [
    "# Dask DataFrame"
   ]
  },
  {
   "cell_type": "markdown",
   "metadata": {
    "slideshow": {
     "slide_type": "subslide"
    }
   },
   "source": [
    "<img src=\"http://dask.pydata.org/en/latest/_images/dask-dataframe.svg\", width=\"30%\">"
   ]
  },
  {
   "cell_type": "markdown",
   "metadata": {
    "slideshow": {
     "slide_type": "slide"
    }
   },
   "source": [
    "# Pandas: Recap\n",
    "\n",
    "* Tool for working with tabular data that is\n",
    "  * Flexible\n",
    "  * Intuitive\n",
    "  * Powerful\n",
    "  * Performant"
   ]
  },
  {
   "cell_type": "markdown",
   "metadata": {
    "slideshow": {
     "slide_type": "slide"
    }
   },
   "source": [
    "# Crystal Ball\n",
    "  \n",
    "* Python at scale and in production (industry) data analysis environments as alternative to JVM\n",
    "* Separation of expression engine and runtime computational engine\n",
    "  * Predicate push down (PySpark, Ibis, Blaze, etc.)\n",
    "  * Approaches to code generation will continue to flourish\n",
    "    * Numba (llvm) / Cython (C/C++)\n",
    "* Increased obsolescence of MapReduce paradigm (not always the answer)\n",
    "* Big Ram eating Big Data\n",
    "  * Amazon AWS X1 EC2 instance\n",
    "  * 128 vCPU, 2,000 GiB RAM, 10 Gbps network + EBS is $35k / year\n",
    "  * Network-based distributed computing (*some* Spark/Hadoop-like) use cases will be diminished"
   ]
  }
 ],
 "metadata": {
  "celltoolbar": "Slideshow",
  "kernelspec": {
   "display_name": "Python 3",
   "language": "python",
   "name": "python3"
  },
  "language_info": {
   "codemirror_mode": {
    "name": "ipython",
    "version": 3
   },
   "file_extension": ".py",
   "mimetype": "text/x-python",
   "name": "python",
   "nbconvert_exporter": "python",
   "pygments_lexer": "ipython3",
   "version": "3.5.1"
  },
  "widgets": {
   "state": {},
   "version": "1.1.2"
  }
 },
 "nbformat": 4,
 "nbformat_minor": 0
}
